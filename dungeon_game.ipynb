{
 "cells": [
  {
   "cell_type": "code",
   "execution_count": 1,
   "metadata": {},
   "outputs": [],
   "source": [
    "import os"
   ]
  },
  {
   "cell_type": "code",
   "execution_count": 2,
   "metadata": {},
   "outputs": [],
   "source": [
    "import random"
   ]
  },
  {
   "cell_type": "code",
   "execution_count": 3,
   "metadata": {},
   "outputs": [],
   "source": [
    "#draw grid"
   ]
  },
  {
   "cell_type": "code",
   "execution_count": 4,
   "metadata": {},
   "outputs": [],
   "source": [
    "#pick random location for player"
   ]
  },
  {
   "cell_type": "code",
   "execution_count": 5,
   "metadata": {},
   "outputs": [],
   "source": [
    "#pick random location for the monster"
   ]
  },
  {
   "cell_type": "code",
   "execution_count": 6,
   "metadata": {},
   "outputs": [],
   "source": [
    "#draw player in the grid"
   ]
  },
  {
   "cell_type": "code",
   "execution_count": 7,
   "metadata": {},
   "outputs": [],
   "source": [
    "#take input for movement"
   ]
  },
  {
   "cell_type": "code",
   "execution_count": 8,
   "metadata": {},
   "outputs": [],
   "source": [
    "#move player, unless invalid move (past edges of grid)"
   ]
  },
  {
   "cell_type": "code",
   "execution_count": 9,
   "metadata": {},
   "outputs": [],
   "source": [
    "#check for win/loss"
   ]
  },
  {
   "cell_type": "code",
   "execution_count": 10,
   "metadata": {},
   "outputs": [],
   "source": [
    "#clear screen and redraw grid"
   ]
  },
  {
   "cell_type": "code",
   "execution_count": 11,
   "metadata": {},
   "outputs": [],
   "source": [
    "CELLS = [(0, 0), (1, 0), (2, 0), (3, 0), (4, 0),\n",
    "         (0, 1), (1, 1), (2, 1), (3, 1), (4, 1),\n",
    "         (0, 2), (1, 2), (2, 2), (3, 2), (4, 2),\n",
    "         (0, 3), (1, 3), (2, 3), (3, 3), (4, 3),\n",
    "         (0, 4), (1, 4), (2, 4), (3, 4), (4, 4)]"
   ]
  },
  {
   "cell_type": "code",
   "execution_count": 12,
   "metadata": {},
   "outputs": [],
   "source": [
    "def clear_screen():\n",
    "    os.system('cls' if os.name == 'nt' else 'clear')"
   ]
  },
  {
   "cell_type": "code",
   "execution_count": 13,
   "metadata": {},
   "outputs": [],
   "source": [
    "def get_locations():\n",
    "    return random.sample(CELLS, 3)"
   ]
  },
  {
   "cell_type": "code",
   "execution_count": 14,
   "metadata": {},
   "outputs": [],
   "source": [
    "def move_player(player, move):\n",
    "    x, y = player\n",
    "    if move == \"LEFT\":\n",
    "        x -= 1\n",
    "    if move == \"RIGHT\":\n",
    "        x += 1\n",
    "    if move == \"UP\":\n",
    "        y -= 1\n",
    "    if move == \"DOWN\":\n",
    "        y += 1\n",
    "\n",
    "    return x, y"
   ]
  },
  {
   "cell_type": "code",
   "execution_count": 15,
   "metadata": {},
   "outputs": [],
   "source": [
    "def get_moves(player):\n",
    "    moves = [\"LEFT\", \"RIGHT\", \"UP\", \"DOWN\"]\n",
    "    x, y = player\n",
    "    if x == 0:\n",
    "        moves.remove(\"LEFT\")\n",
    "    if x == 4:\n",
    "        moves.remove(\"RIGHT\")\n",
    "    if y == 0:\n",
    "        moves.remove(\"UP\")\n",
    "    if y == 4:\n",
    "        moves.remove(\"DOWN\")\n",
    "\n",
    "    return moves"
   ]
  },
  {
   "cell_type": "code",
   "execution_count": 16,
   "metadata": {},
   "outputs": [],
   "source": [
    "def draw_map(player):\n",
    "    print(\" _\"*5)\n",
    "    tile = \"|{}\"\n",
    "    \n",
    "    for cell in CELLS:\n",
    "        x, y = cell\n",
    "        if x < 4 :\n",
    "            line_end = \"\"\n",
    "            if cell == player:\n",
    "                output = tile.format(\"X\")\n",
    "            else:\n",
    "                output = tile.format(\"_\")\n",
    "        else: \n",
    "            line_end = \"\\n\"\n",
    "            if cell == player:\n",
    "                output = tile.format(\"X|\")\n",
    "            else:\n",
    "                output = tile.format(\"_|\")\n",
    "        print(output, end=line_end)"
   ]
  },
  {
   "cell_type": "code",
   "execution_count": 17,
   "metadata": {},
   "outputs": [],
   "source": [
    "def game_loop():\n",
    "    monster, door, player = get_locations()\n",
    "    playing = True\n",
    "    \n",
    "    while playing:\n",
    "        clear_screen()\n",
    "        draw_map(player)\n",
    "        valid_moves = get_moves(player)\n",
    "        \n",
    "        print(\"You are currently in room {}.\".format(player)) \n",
    "        print(\"You can move {}\".format(\", \".join(valid_moves))) \n",
    "        print(\"Enter QUIT to quit.\")\n",
    "\n",
    "        move = input(\"> \")\n",
    "        move = move.upper()\n",
    "\n",
    "        if move == \"QUIT\":\n",
    "            print(\"\\n ** See ya next time! **\\n\")\n",
    "            break\n",
    "        if move in valid_moves:\n",
    "            player = move_player(player, move)\n",
    "            \n",
    "            if player == monster:\n",
    "                print(\"\\n ** Oh no! The monster got you! Better luck next time! **\\n\")\n",
    "                playing = False\n",
    "            if player == door:\n",
    "                print(\"\\n ** You escaped! Congratulations! **\\n\")\n",
    "                playing = False\n",
    "        else:\n",
    "            input(\"\\n ** Walls are hard! Don't run into them! **\\nPress Enter\")\n",
    "    else:\n",
    "        if input(\"Play again? [Y/N] \").lower() != \"n\":\n",
    "            game_loop()\n",
    "    "
   ]
  },
  {
   "cell_type": "code",
   "execution_count": 18,
   "metadata": {},
   "outputs": [
    {
     "name": "stdout",
     "output_type": "stream",
     "text": [
      "Welcome to the dungeon!\n",
      "Press ENTER to start!\n",
      " _ _ _ _ _\n",
      "|_|_|_|_|_|\n",
      "|_|_|_|_|_|\n",
      "|_|_|_|_|_|\n",
      "|_|_|_|X|_|\n",
      "|_|_|_|_|_|\n",
      "You are currently in room (3, 3).\n",
      "You can move LEFT, RIGHT, UP, DOWN\n",
      "Enter QUIT to quit.\n",
      "> left\n",
      " _ _ _ _ _\n",
      "|_|_|_|_|_|\n",
      "|_|_|_|_|_|\n",
      "|_|_|_|_|_|\n",
      "|_|_|X|_|_|\n",
      "|_|_|_|_|_|\n",
      "You are currently in room (2, 3).\n",
      "You can move LEFT, RIGHT, UP, DOWN\n",
      "Enter QUIT to quit.\n",
      "> left\n",
      " _ _ _ _ _\n",
      "|_|_|_|_|_|\n",
      "|_|_|_|_|_|\n",
      "|_|_|_|_|_|\n",
      "|_|X|_|_|_|\n",
      "|_|_|_|_|_|\n",
      "You are currently in room (1, 3).\n",
      "You can move LEFT, RIGHT, UP, DOWN\n",
      "Enter QUIT to quit.\n",
      "> left\n",
      " _ _ _ _ _\n",
      "|_|_|_|_|_|\n",
      "|_|_|_|_|_|\n",
      "|_|_|_|_|_|\n",
      "|X|_|_|_|_|\n",
      "|_|_|_|_|_|\n",
      "You are currently in room (0, 3).\n",
      "You can move RIGHT, UP, DOWN\n",
      "Enter QUIT to quit.\n",
      "> left\n",
      "\n",
      " ** Walls are hard! Don't run into them! **\n",
      "Press Enterup\n",
      " _ _ _ _ _\n",
      "|_|_|_|_|_|\n",
      "|_|_|_|_|_|\n",
      "|_|_|_|_|_|\n",
      "|X|_|_|_|_|\n",
      "|_|_|_|_|_|\n",
      "You are currently in room (0, 3).\n",
      "You can move RIGHT, UP, DOWN\n",
      "Enter QUIT to quit.\n",
      "> up\n",
      " _ _ _ _ _\n",
      "|_|_|_|_|_|\n",
      "|_|_|_|_|_|\n",
      "|X|_|_|_|_|\n",
      "|_|_|_|_|_|\n",
      "|_|_|_|_|_|\n",
      "You are currently in room (0, 2).\n",
      "You can move RIGHT, UP, DOWN\n",
      "Enter QUIT to quit.\n",
      "> up\n",
      " _ _ _ _ _\n",
      "|_|_|_|_|_|\n",
      "|X|_|_|_|_|\n",
      "|_|_|_|_|_|\n",
      "|_|_|_|_|_|\n",
      "|_|_|_|_|_|\n",
      "You are currently in room (0, 1).\n",
      "You can move RIGHT, UP, DOWN\n",
      "Enter QUIT to quit.\n",
      "> up\n",
      " _ _ _ _ _\n",
      "|X|_|_|_|_|\n",
      "|_|_|_|_|_|\n",
      "|_|_|_|_|_|\n",
      "|_|_|_|_|_|\n",
      "|_|_|_|_|_|\n",
      "You are currently in room (0, 0).\n",
      "You can move RIGHT, DOWN\n",
      "Enter QUIT to quit.\n",
      "> up\n",
      "\n",
      " ** Walls are hard! Don't run into them! **\n",
      "Press Enterright\n",
      " _ _ _ _ _\n",
      "|X|_|_|_|_|\n",
      "|_|_|_|_|_|\n",
      "|_|_|_|_|_|\n",
      "|_|_|_|_|_|\n",
      "|_|_|_|_|_|\n",
      "You are currently in room (0, 0).\n",
      "You can move RIGHT, DOWN\n",
      "Enter QUIT to quit.\n",
      "> down\n",
      " _ _ _ _ _\n",
      "|_|_|_|_|_|\n",
      "|X|_|_|_|_|\n",
      "|_|_|_|_|_|\n",
      "|_|_|_|_|_|\n",
      "|_|_|_|_|_|\n",
      "You are currently in room (0, 1).\n",
      "You can move RIGHT, UP, DOWN\n",
      "Enter QUIT to quit.\n",
      "> down\n",
      " _ _ _ _ _\n",
      "|_|_|_|_|_|\n",
      "|_|_|_|_|_|\n",
      "|X|_|_|_|_|\n",
      "|_|_|_|_|_|\n",
      "|_|_|_|_|_|\n",
      "You are currently in room (0, 2).\n",
      "You can move RIGHT, UP, DOWN\n",
      "Enter QUIT to quit.\n",
      "> down\n",
      " _ _ _ _ _\n",
      "|_|_|_|_|_|\n",
      "|_|_|_|_|_|\n",
      "|_|_|_|_|_|\n",
      "|X|_|_|_|_|\n",
      "|_|_|_|_|_|\n",
      "You are currently in room (0, 3).\n",
      "You can move RIGHT, UP, DOWN\n",
      "Enter QUIT to quit.\n",
      "> down\n",
      " _ _ _ _ _\n",
      "|_|_|_|_|_|\n",
      "|_|_|_|_|_|\n",
      "|_|_|_|_|_|\n",
      "|_|_|_|_|_|\n",
      "|X|_|_|_|_|\n",
      "You are currently in room (0, 4).\n",
      "You can move RIGHT, UP\n",
      "Enter QUIT to quit.\n",
      "> right\n",
      " _ _ _ _ _\n",
      "|_|_|_|_|_|\n",
      "|_|_|_|_|_|\n",
      "|_|_|_|_|_|\n",
      "|_|_|_|_|_|\n",
      "|_|X|_|_|_|\n",
      "You are currently in room (1, 4).\n",
      "You can move LEFT, RIGHT, UP\n",
      "Enter QUIT to quit.\n",
      "> righ\n",
      "\n",
      " ** Walls are hard! Don't run into them! **\n",
      "Press Enterright\n",
      " _ _ _ _ _\n",
      "|_|_|_|_|_|\n",
      "|_|_|_|_|_|\n",
      "|_|_|_|_|_|\n",
      "|_|_|_|_|_|\n",
      "|_|X|_|_|_|\n",
      "You are currently in room (1, 4).\n",
      "You can move LEFT, RIGHT, UP\n",
      "Enter QUIT to quit.\n",
      "> quit\n",
      "\n",
      " ** See ya next time! **\n",
      "\n"
     ]
    }
   ],
   "source": [
    "clear_screen()\n",
    "print(\"Welcome to the dungeon!\")\n",
    "input(\"Press ENTER to start!\")\n",
    "clear_screen()\n",
    "game_loop()"
   ]
  }
 ],
 "metadata": {
  "kernelspec": {
   "display_name": "Python 3",
   "language": "python",
   "name": "python3"
  },
  "language_info": {
   "codemirror_mode": {
    "name": "ipython",
    "version": 3
   },
   "file_extension": ".py",
   "mimetype": "text/x-python",
   "name": "python",
   "nbconvert_exporter": "python",
   "pygments_lexer": "ipython3",
   "version": "3.6.5"
  }
 },
 "nbformat": 4,
 "nbformat_minor": 2
}
