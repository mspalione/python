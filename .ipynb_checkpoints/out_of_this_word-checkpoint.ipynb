{
 "cells": [
  {
   "cell_type": "code",
   "execution_count": 1,
   "metadata": {},
   "outputs": [],
   "source": [
    "import random\n",
    "\n",
    "WORDS = (\n",
    "    \"treehouse\",\n",
    "    \"python\",\n",
    "    \"learner\",\n",
    ")"
   ]
  },
  {
   "cell_type": "code",
   "execution_count": null,
   "metadata": {},
   "outputs": [],
   "source": [
    "def prompt_for_words(challenge):\n",
    "    guesses = set()\n",
    "    print(\"What words can ou find in the word '{}'\".format(challenge))\n",
    "    print(\"(Enter Q to Quit)\")\n",
    "    while True:\n",
    "        guess = input(\"{} words > \".format(len(guesses)))\n",
    "        if guess.upper() == \"Q\":\n",
    "            break\n",
    "        guesses.add(guess.lower())\n",
    "    return guesses"
   ]
  },
  {
   "cell_type": "code",
   "execution_count": null,
   "metadata": {},
   "outputs": [],
   "source": [
    "def output_results(results):\n",
    "    for word in results:\n",
    "        print(\"* \" + word)"
   ]
  },
  {
   "cell_type": "code",
   "execution_count": 2,
   "metadata": {},
   "outputs": [],
   "source": [
    "challenge_word = random.choice(WORDS)"
   ]
  },
  {
   "cell_type": "code",
   "execution_count": null,
   "metadata": {},
   "outputs": [],
   "source": [
    "player1_words = prompt_for_words(challenge_word)\n",
    "player2_words = prompt_for_words(challenge_word)"
   ]
  },
  {
   "cell_type": "code",
   "execution_count": null,
   "metadata": {},
   "outputs": [],
   "source": [
    "print(\"Player 1 Results:\")\n",
    "player1_unique = player1_words - player1_words\n",
    "print(\"{} guesses, {} unique\".format(len(player1_words), len(player1_unique)))\n",
    "output_results(player1_unique)\n",
    "print(\"-\" * 10)"
   ]
  },
  {
   "cell_type": "code",
   "execution_count": null,
   "metadata": {},
   "outputs": [],
   "source": [
    "print(\"Player 2 Results:\")\n",
    "player2_unique = player2_words - player2_words\n",
    "print(\"{} guesses, {} unique\".format(len(player1_words), len(player2_unique)))\n",
    "output_results(player1_unique)\n",
    "print(\"-\" * 10)"
   ]
  },
  {
   "cell_type": "code",
   "execution_count": null,
   "metadata": {},
   "outputs": [],
   "source": [
    "print(\"Shared guesses:\")\n",
    "     shared_words = player1_words & player2_words"
   ]
  },
  {
   "cell_type": "code",
   "execution_count": null,
   "metadata": {},
   "outputs": [],
   "source": []
  }
 ],
 "metadata": {
  "kernelspec": {
   "display_name": "Python 3",
   "language": "python",
   "name": "python3"
  },
  "language_info": {
   "codemirror_mode": {
    "name": "ipython",
    "version": 3
   },
   "file_extension": ".py",
   "mimetype": "text/x-python",
   "name": "python",
   "nbconvert_exporter": "python",
   "pygments_lexer": "ipython3",
   "version": "3.6.5"
  }
 },
 "nbformat": 4,
 "nbformat_minor": 2
}
