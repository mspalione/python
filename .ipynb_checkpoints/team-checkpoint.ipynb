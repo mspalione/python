{
 "cells": [
  {
   "cell_type": "code",
   "execution_count": null,
   "metadata": {},
   "outputs": [
    {
     "name": "stdout",
     "output_type": "stream",
     "text": [
      "Would you like to add a player to the list? (Yes/No) no\n",
      "\n",
      "There are 0 players on the team.\n"
     ]
    }
   ],
   "source": [
    "# TODO Create an empty list to maintain the player names\n",
    "players = []\n",
    "\n",
    "# TODO Ask the user if they'd like to add players to the list.\n",
    "# If the user answers \"Yes\", let them type in a name and add it to the list.\n",
    "# If the user answers \"No\", print out the team 'roster'\n",
    "add_players = input(\"Would you like to add a player to the list? (Yes/No) \")\n",
    "while add_players.lower == \"yes\":\n",
    "    name = input(\"\\nEnter the name of the player to add to the team: \")\n",
    "    players.append(name)\n",
    "    add_players = input(\"Would you like to add another player? (Yes/No) \")\n",
    "\n",
    "# TODO print the number of players on the team\n",
    "print(\"\\nThere are {} players on the team.\".format(len(players)))\n",
    "\n",
    "# TODO Print the player number and the player name\n",
    "# The player number should start at the number one\n",
    "player_number = 1\n",
    "for player in players:\n",
    "    print(\"Player {}: {}\".format(player_number, player))\n",
    "    player_number += 1\n",
    "    \n",
    "# TODO Select a goalkeeper from the above roster\n",
    "keeper = input(\"Please select the goal keeper by selecting the player number. (1-{})\".format(len(players)))\n",
    "\n",
    "keeper = int(keeper)\n",
    "\n",
    "# TODO Print the goal keeper's name\n",
    "# Remember that lists use a zero based index\n",
    "print(\"Great!!! The goalkeeper for the game will be {}\".format(players[keeper - 1]))"
   ]
  },
  {
   "cell_type": "code",
   "execution_count": 15,
   "metadata": {},
   "outputs": [
    {
     "name": "stdout",
     "output_type": "stream",
     "text": [
      "Would you like to add a player to the list? (Yes/No) yes\n"
     ]
    }
   ],
   "source": [
    "# TODO Ask the user if they'd like to add players to the list.\n",
    "# If the user answers \"Yes\", let them type in a name and add it to the list.\n",
    "# If the user answers \"No\", print out the team 'roster'\n",
    "add_players = input(\"Would you like to add a player to the list? (Yes/No) \")\n",
    "while add_players.lower == \"yes\":\n",
    "    name = input(\"\\nEnter the name of the player to add to the team: \")\n",
    "    players.append(name)\n",
    "    add_players = input(\"Would you like to add another player? (Yes/No) \")\n"
   ]
  },
  {
   "cell_type": "code",
   "execution_count": 16,
   "metadata": {},
   "outputs": [
    {
     "name": "stdout",
     "output_type": "stream",
     "text": [
      "\n",
      "There are 0 players on the team.\n"
     ]
    }
   ],
   "source": [
    "# TODO print the number of players on the team\n",
    "print(\"\\nThere are {} players on the team.\".format(len(players)))"
   ]
  },
  {
   "cell_type": "code",
   "execution_count": 17,
   "metadata": {},
   "outputs": [],
   "source": [
    "# TODO Print the player number and the player name\n",
    "# The player number should start at the number one\n",
    "player_number = 1\n",
    "for player in players:\n",
    "    print(\"Player {}: {}\".format(player_number, player))\n",
    "    player_number += 1"
   ]
  },
  {
   "cell_type": "code",
   "execution_count": 18,
   "metadata": {},
   "outputs": [
    {
     "name": "stdout",
     "output_type": "stream",
     "text": [
      "Please select the goal keeper by selecting the player number. (1-0)0\n"
     ]
    }
   ],
   "source": [
    "# TODO Select a goalkeeper from the above roster\n",
    "keeper = input(\"Please select the goal keeper by selecting the player number. (1-{})\".format(len(players)))\n",
    "\n",
    "keeper = int(keeper)"
   ]
  },
  {
   "cell_type": "code",
   "execution_count": null,
   "metadata": {},
   "outputs": [],
   "source": [
    "# TODO Print the goal keeper's name\n",
    "# Remember that lists use a zero based index\n",
    "print(\"Great!!! The goalkeeper for the game will be {}\".format(players[keeper - 1]))\n"
   ]
  }
 ],
 "metadata": {
  "kernelspec": {
   "display_name": "Python 3",
   "language": "python",
   "name": "python3"
  },
  "language_info": {
   "codemirror_mode": {
    "name": "ipython",
    "version": 3
   },
   "file_extension": ".py",
   "mimetype": "text/x-python",
   "name": "python",
   "nbconvert_exporter": "python",
   "pygments_lexer": "ipython3",
   "version": "3.6.5"
  }
 },
 "nbformat": 4,
 "nbformat_minor": 2
}
