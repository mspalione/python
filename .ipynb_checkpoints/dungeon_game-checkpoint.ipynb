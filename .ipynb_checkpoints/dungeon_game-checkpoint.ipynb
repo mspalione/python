{
 "cells": [
  {
   "cell_type": "code",
   "execution_count": 1,
   "metadata": {},
   "outputs": [],
   "source": [
    "import os"
   ]
  },
  {
   "cell_type": "code",
   "execution_count": 2,
   "metadata": {},
   "outputs": [],
   "source": [
    "import random"
   ]
  },
  {
   "cell_type": "code",
   "execution_count": 3,
   "metadata": {},
   "outputs": [],
   "source": [
    "#draw grid"
   ]
  },
  {
   "cell_type": "code",
   "execution_count": 4,
   "metadata": {},
   "outputs": [],
   "source": [
    "#pick random location for player"
   ]
  },
  {
   "cell_type": "code",
   "execution_count": 5,
   "metadata": {},
   "outputs": [],
   "source": [
    "#pick random location for the monster"
   ]
  },
  {
   "cell_type": "code",
   "execution_count": 6,
   "metadata": {},
   "outputs": [],
   "source": [
    "#draw player in the grid"
   ]
  },
  {
   "cell_type": "code",
   "execution_count": 7,
   "metadata": {},
   "outputs": [],
   "source": [
    "#take input for movement"
   ]
  },
  {
   "cell_type": "code",
   "execution_count": 8,
   "metadata": {},
   "outputs": [],
   "source": [
    "#move player, unless invalid move (past edges of grid)"
   ]
  },
  {
   "cell_type": "code",
   "execution_count": 9,
   "metadata": {},
   "outputs": [],
   "source": [
    "#check for win/loss"
   ]
  },
  {
   "cell_type": "code",
   "execution_count": 10,
   "metadata": {},
   "outputs": [],
   "source": [
    "#clear screen and redraw grid"
   ]
  },
  {
   "cell_type": "code",
   "execution_count": 11,
   "metadata": {},
   "outputs": [],
   "source": [
    "CELLS = [(0, 0), (1, 0), (2, 0), (3, 0), (4, 0),\n",
    "         (0, 1), (1, 1), (2, 1), (3, 1), (4, 1),\n",
    "         (0, 2), (1, 2), (2, 2), (3, 2), (4, 2),\n",
    "         (0, 3), (1, 3), (2, 3), (3, 3), (4, 3),\n",
    "         (0, 4), (1, 4), (2, 4), (3, 4), (4, 4)]"
   ]
  },
  {
   "cell_type": "code",
   "execution_count": 12,
   "metadata": {},
   "outputs": [],
   "source": [
    "def clear_screen():\n",
    "    os.system('cls' if os.name == 'nt' else 'clear')"
   ]
  },
  {
   "cell_type": "code",
   "execution_count": 13,
   "metadata": {},
   "outputs": [],
   "source": [
    "def get_locations():\n",
    "    return random.sample(CELLS, 3)"
   ]
  },
  {
   "cell_type": "code",
   "execution_count": 14,
   "metadata": {},
   "outputs": [],
   "source": [
    "def move_player(player, move):\n",
    "    x, y = player\n",
    "    if move == \"LEFT\":\n",
    "        x -= 1\n",
    "    if move == \"RIGHT\":\n",
    "        x += 1\n",
    "    if move == \"UP\":\n",
    "        y -= 1\n",
    "    if move == \"DOWN\":\n",
    "        y += 1\n",
    "\n",
    "    return x, y"
   ]
  },
  {
   "cell_type": "code",
   "execution_count": null,
   "metadata": {},
   "outputs": [],
   "source": [
    "def get_moves(player):\n",
    "    moves = [\"LEFT\", \"RIGHT\", \"UP\", \"DOWN\"]\n",
    "    x, y = player\n",
    "    if x == 0:\n",
    "        moves.remove(\"LEFT\")\n",
    "    if x == 4:\n",
    "        moves.remove(\"RIGHT\")\n",
    "    if y == 0:\n",
    "        moves.remove(\"UP\")\n",
    "    if y == 4:\n",
    "        moves.remove(\"DOWN\")\n",
    "\n",
    "    return moves"
   ]
  },
  {
   "cell_type": "code",
   "execution_count": null,
   "metadata": {},
   "outputs": [],
   "source": [
    "def game_loop():\n",
    "    monster, door, player = get_locations()\n",
    "    \n",
    "    while True:\n",
    "        print(\"You are currently in room {}.\".format(player)) \n",
    "        print(\"You can move {}\".format(\", \".join(valid_moves))) \n",
    "        print(\"Enter QUIT to quit.\")\n",
    "\n",
    "        move = input(\"> \")\n",
    "        move = move.upper()\n",
    "\n",
    "        if move == \"QUIT\":\n",
    "            break\n",
    "        if move in valid_moves:\n",
    "            player = move_player(player, move)\n",
    "        else:\n",
    "            print(\"\\n ** Walls are hard! Don't run into them! **\\n\")\n",
    "            continue\n",
    "    "
   ]
  },
  {
   "cell_type": "code",
   "execution_count": null,
   "metadata": {},
   "outputs": [
    {
     "name": "stdout",
     "output_type": "stream",
     "text": [
      "Welcome to the dungeon!\n",
      "You are currently in room (4, 2).\n",
      "You can move LEFT, UP, DOWN\n",
      "Enter QUIT to quit.\n",
      "> LEFT\n",
      "Welcome to the dungeon!\n",
      "You are currently in room (3, 2).\n",
      "You can move LEFT, RIGHT, UP, DOWN\n",
      "Enter QUIT to quit.\n",
      "> LEFT\n",
      "Welcome to the dungeon!\n",
      "You are currently in room (2, 2).\n",
      "You can move LEFT, RIGHT, UP, DOWN\n",
      "Enter QUIT to quit.\n",
      "> LEFT\n",
      "Welcome to the dungeon!\n",
      "You are currently in room (1, 2).\n",
      "You can move LEFT, RIGHT, UP, DOWN\n",
      "Enter QUIT to quit.\n",
      "> DOWN\n",
      "Welcome to the dungeon!\n",
      "You are currently in room (1, 3).\n",
      "You can move LEFT, RIGHT, UP, DOWN\n",
      "Enter QUIT to quit.\n"
     ]
    }
   ],
   "source": [
    "valid_moves = get_moves(player)\n",
    "clear_screen()\n",
    "print(\"Welcome to the dungeon!\")\n",
    "input(\"Press return to start!\")\n",
    "clear_screen()\n",
    "game_loop()"
   ]
  }
 ],
 "metadata": {
  "kernelspec": {
   "display_name": "Python 3",
   "language": "python",
   "name": "python3"
  },
  "language_info": {
   "codemirror_mode": {
    "name": "ipython",
    "version": 3
   },
   "file_extension": ".py",
   "mimetype": "text/x-python",
   "name": "python",
   "nbconvert_exporter": "python",
   "pygments_lexer": "ipython3",
   "version": "3.6.5"
  }
 },
 "nbformat": 4,
 "nbformat_minor": 2
}
