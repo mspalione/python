{
 "cells": [
  {
   "cell_type": "code",
   "execution_count": 15,
   "metadata": {},
   "outputs": [
    {
     "name": "stdout",
     "output_type": "stream",
     "text": [
      "What should we pick up at the store?\n",
      "\n",
      "    Enter 'DONE' to stop adding items.\n",
      "    Enter 'HELP' when you need help.\n",
      "    Enter 'SHOW' to see your list.\n",
      "    \n",
      "> blueberries\n",
      "Added! You have 1 items on your list.\n",
      "> apples\n",
      "Added! You have 2 items on your list.\n",
      "> SHOW\n",
      "Here's your list:\n",
      "~ blueberries\n",
      "~ apples\n",
      "> HELP\n",
      "What should we pick up at the store?\n",
      "\n",
      "    Enter 'DONE' to stop adding items.\n",
      "    Enter 'HELP' when you need help.\n",
      "    Enter 'SHOW' to see your list.\n",
      "    \n",
      "> DONE\n",
      "Here's your list:\n",
      "~ blueberries\n",
      "~ apples\n"
     ]
    }
   ],
   "source": [
    "import os\n",
    "\n",
    "shopping_list = []\n",
    "\n",
    "def clear_screen():\n",
    "    os.system(\"cls\" if os.name == \"nt\" else \"clear\")\n",
    "\n",
    "    \n",
    "def show_help():\n",
    "    clear_screen()\n",
    "    print(\"What should we pick up at the store?\")\n",
    "    print(\"\"\"\n",
    "    Enter 'DONE' to stop adding items.\n",
    "    Enter 'HELP' when you need help.\n",
    "    Enter 'SHOW' to see your current list.\n",
    "    \"\"\")\n",
    "    \n",
    "    \n",
    "def add_to_list(item):\n",
    "    shopping_list.append(item)\n",
    "    #Notify user the item was added, and state the number of items in the list currently\n",
    "    print(\"Added! You have {} items on your list.\".format(len(shopping_list)))\n",
    "    show_list()\n",
    "\n",
    "    \n",
    "def show_list():\n",
    "    clear_screen()\n",
    "    print(\"Here's your list:\")\n",
    "    \n",
    "    index = 1\n",
    "    for item in shopping_list:\n",
    "        print(\"{}. {}\".format(index, item))\n",
    "        index += 1\n",
    "        \n",
    "    print(\"-\"*10)\n",
    "    \n",
    "show_help()\n",
    "while True:\n",
    "    new_item = input(\"> \")\n",
    "    \n",
    "    if new_item.upper() == \"DONE\" or new_item.upper() == \"QUIT\":\n",
    "        break\n",
    "    elif new_item.upper() == \"HELP\":\n",
    "        show_help()\n",
    "        continue\n",
    "    elif new_item.upper() == \"SHOW\":\n",
    "        show_list()\n",
    "        continue\n",
    "    else:\n",
    "        add_to_list(new_item)\n",
    "    \n",
    "show_list()"
   ]
  },
  {
   "cell_type": "code",
   "execution_count": null,
   "metadata": {},
   "outputs": [],
   "source": []
  }
 ],
 "metadata": {
  "kernelspec": {
   "display_name": "Python 3",
   "language": "python",
   "name": "python3"
  },
  "language_info": {
   "codemirror_mode": {
    "name": "ipython",
    "version": 3
   },
   "file_extension": ".py",
   "mimetype": "text/x-python",
   "name": "python",
   "nbconvert_exporter": "python",
   "pygments_lexer": "ipython3",
   "version": "3.6.5"
  }
 },
 "nbformat": 4,
 "nbformat_minor": 2
}
