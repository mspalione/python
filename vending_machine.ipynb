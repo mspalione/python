{
 "cells": [
  {
   "cell_type": "code",
   "execution_count": null,
   "metadata": {},
   "outputs": [
    {
     "name": "stdout",
     "output_type": "stream",
     "text": [
      "Would you like a SODA, some CHIPS, or a CANDY? chips\n",
      "Here's your chips: Fritos\n",
      "Would you like a SODA, some CHIPS, or a CANDY? chips\n",
      "Here's your chips: Doritos\n",
      "Would you like a SODA, some CHIPS, or a CANDY? chips\n",
      "We're all out of chips! Sorry!\n",
      "Would you like a SODA, some CHIPS, or a CANDY? candy\n",
      "Here's your candy: Twizzlers\n"
     ]
    }
   ],
   "source": [
    "sodas = [\"Pepsi\", \"Cherry Coke Zero\", \"Sprite\"]\n",
    "chips = [\"Doritos\", \"Fritos\"]\n",
    "candy = [\"Snickers\", \"M&Ms\", \"Twizzlers\"]\n",
    "\n",
    "while True:\n",
    "    choice = input(\"Would you like a SODA, some CHIPS, or a CANDY? \").lower()\n",
    "    \n",
    "    try:\n",
    "        if choice == \"soda\":\n",
    "            snack = sodas.pop()\n",
    "        elif choice == \"chips\":\n",
    "            snack = chips.pop()\n",
    "        elif choice == \"candy\":\n",
    "            snack = candy.pop()\n",
    "        else:\n",
    "            print(\"Sorry, I didn't understand that.\")\n",
    "            continue\n",
    "    except IndexError:\n",
    "        print(\"We're all out of {}! Sorry!\".format(choice))\n",
    "    else: \n",
    "        print(\"Here's your {}: {}\".format(choice, snack))"
   ]
  },
  {
   "cell_type": "code",
   "execution_count": null,
   "metadata": {},
   "outputs": [],
   "source": []
  },
  {
   "cell_type": "code",
   "execution_count": null,
   "metadata": {},
   "outputs": [],
   "source": []
  }
 ],
 "metadata": {
  "kernelspec": {
   "display_name": "Python 3",
   "language": "python",
   "name": "python3"
  },
  "language_info": {
   "codemirror_mode": {
    "name": "ipython",
    "version": 3
   },
   "file_extension": ".py",
   "mimetype": "text/x-python",
   "name": "python",
   "nbconvert_exporter": "python",
   "pygments_lexer": "ipython3",
   "version": "3.6.5"
  }
 },
 "nbformat": 4,
 "nbformat_minor": 2
}
