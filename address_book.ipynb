{
 "cells": [
  {
   "cell_type": "code",
   "execution_count": 1,
   "metadata": {},
   "outputs": [],
   "source": [
    "import re"
   ]
  },
  {
   "cell_type": "code",
   "execution_count": 2,
   "metadata": {},
   "outputs": [],
   "source": [
    "names_file = open(\"names.txt\", encoding=\"utf-8\")"
   ]
  },
  {
   "cell_type": "code",
   "execution_count": 3,
   "metadata": {},
   "outputs": [],
   "source": [
    "data = names_file.read()"
   ]
  },
  {
   "cell_type": "code",
   "execution_count": 4,
   "metadata": {},
   "outputs": [],
   "source": [
    "names_file.close()"
   ]
  },
  {
   "cell_type": "code",
   "execution_count": 5,
   "metadata": {},
   "outputs": [],
   "source": [
    "print(re.match(r'Love', data))"
   ]
  },
  {
   "cell_type": "code",
   "execution_count": 6,
   "metadata": {},
   "outputs": [],
   "source": [
    "print(re.search(r'Kenneth', data))"
   ]
  },
  {
   "cell_type": "code",
   "execution_count": 7,
   "metadata": {},
   "outputs": [
    {
     "name": "stdout",
     "output_type": "stream",
     "text": [
      "['(555) 555-5555', '(555) 555-5554', '(555) 555-5543', '555-555-5552', '555 555-5551', '(555) 555-5553', '(555) 555-4444']\n"
     ]
    }
   ],
   "source": [
    "print(re.findall(r'\\(?\\d{3}\\)?-?\\s?\\d{3}-\\d{4}', data))"
   ]
  },
  {
   "cell_type": "code",
   "execution_count": 8,
   "metadata": {},
   "outputs": [
    {
     "name": "stdout",
     "output_type": "stream",
     "text": [
      "['Love, Kenneth', 'Teacher, Treehouse', 'McFarland, Dave', 'Teacher, Treehouse', 'Arthur, King', 'King, Camelot', 'Österberg, Sven', 'Governor, Norrbotten', ', Tim', 'Enchanter, Killer', 'Carson, Ryan', 'CEO, Treehouse', 'Doctor, The', 'Lord, Gallifrey', 'Exampleson, Example', 'Example, Example', 'Obama, Barack', 'President, United', 'Chalkley, Andrew', 'Teacher, Treehouse', 'Vader, Darth', 'Lord, Galactic', 'Sanz, María', 'Minister, Spanish']\n"
     ]
    }
   ],
   "source": [
    "print(re.findall(r'\\w*, \\w+', data))"
   ]
  },
  {
   "cell_type": "code",
   "execution_count": 9,
   "metadata": {},
   "outputs": [
    {
     "name": "stdout",
     "output_type": "stream",
     "text": [
      "['kenneth@teamtreehouse.com', 'dave@teamtreehouse.com', 'king_arthur@camelot.co.uk', 'governor@norrbotten.co.se', 'tim@killerrabbit.com', 'ryan@teamtreehouse.com', 'doctor+companion@tardis.co.uk', 'me@example.com', 'president.44@us.gov', 'andrew@teamtreehouse.com', 'darth-vader@empire.gov', 'mtfvs@spain.gov']\n"
     ]
    }
   ],
   "source": [
    "print(re.findall(r'[-\\w\\d+.]+@[-\\w\\d.]+', data))"
   ]
  },
  {
   "cell_type": "code",
   "execution_count": 10,
   "metadata": {},
   "outputs": [
    {
     "name": "stdout",
     "output_type": "stream",
     "text": [
      "['Treehouse', 'Treehouse', 'Treehouse', 'Treehouse']\n"
     ]
    }
   ],
   "source": [
    "print(re.findall(r'\\b[trehous]{9}\\b', data, re.I))"
   ]
  },
  {
   "cell_type": "code",
   "execution_count": 11,
   "metadata": {
    "scrolled": true
   },
   "outputs": [
    {
     "name": "stdout",
     "output_type": "stream",
     "text": [
      "['@teamtreehouse.com', '@teamtreehouse.com', '@camelot.co.uk', '@norrbotten.co.se', '@killerrabbit.com', '@teamtreehouse.com', '@tardis.co.uk', '@example.com', '@us.', '@teamtreehouse.com', '@empire.', '@spain.']\n"
     ]
    }
   ],
   "source": [
    "print(re.findall(r'''\n",
    "    \\b@[-\\w\\d.]* #First a word boundary, an @, and then any number of characters\n",
    "    [^gov\\t]+ #Ignore 1+ instances of the letters 'g', 'o', or 'v' and a tab.\n",
    "    \\b #Match another word boundary\n",
    "''', data, re.VERBOSE|re.I))"
   ]
  },
  {
   "cell_type": "code",
   "execution_count": 12,
   "metadata": {},
   "outputs": [
    {
     "name": "stdout",
     "output_type": "stream",
     "text": [
      "['Love, Kenneth', 'Teacher, Treehouse', 'McFarland, Dave', 'Teacher, Treehouse', 'Arthur, King', 'King, Camelot', 'Österberg, Sven-Erik', 'Governor, Norrbotten', 'Enchanter, Killer Rabbit Cave', 'Carson, Ryan', 'CEO, Treehouse', 'Doctor, The', 'Lord, Gallifrey', 'Exampleson, Example', 'Example, Example Co.', 'Obama, Barack', 'President, United States of America', 'Chalkley, Andrew', 'Teacher, Treehouse', 'Vader, Darth', 'Lord, Galactic Empire', 'Sanz, María Teresa', 'Minister, Spanish Govt.']\n"
     ]
    }
   ],
   "source": [
    "print(re.findall(r\"\"\"\n",
    "    \\b[-\\w]*, #Find a word boundary, 1+ hyphens or word characters, and a comma\n",
    "    \\s #find 1 whitespace\n",
    "    [-\\w ]+ #1+ hyphes and characters and explicit space\n",
    "    [^\\t\\n] #Ignore tabs and newlines\n",
    "\"\"\", data, re.X))"
   ]
  },
  {
   "cell_type": "code",
   "execution_count": 13,
   "metadata": {},
   "outputs": [],
   "source": [
    "line = re.compile(r'''\n",
    "    ^(?P<name>(?P<last>[-\\w ]*),\\s(?P<first>[-\\w ]+))\\t #last and first names\n",
    "    (?P<email>[-\\w\\d+.]+@[-\\w\\d.]+)\\t #email\n",
    "    (?P<phone>\\(?\\d{3}\\)?-?\\s?\\d{3}-\\d{4})?\\t #phone numbers\n",
    "    (?P<job>[\\w\\s]+,\\s[\\w\\s.]+)\\t? #Job, Company\n",
    "    (?P<twitter>@[\\w\\d]+)?$ #twitter\n",
    "''', re.X|re.M)"
   ]
  },
  {
   "cell_type": "code",
   "execution_count": 14,
   "metadata": {},
   "outputs": [
    {
     "name": "stdout",
     "output_type": "stream",
     "text": [
      "{'name': 'Love, Kenneth', 'last': 'Love', 'first': 'Kenneth', 'email': 'kenneth@teamtreehouse.com', 'phone': '(555) 555-5555', 'job': 'Teacher, Treehouse\\t', 'twitter': '@kennethlove'}\n"
     ]
    }
   ],
   "source": [
    "print(re.search(line, data).groupdict())"
   ]
  },
  {
   "cell_type": "code",
   "execution_count": 15,
   "metadata": {},
   "outputs": [
    {
     "name": "stdout",
     "output_type": "stream",
     "text": [
      "{'name': 'Love, Kenneth', 'last': 'Love', 'first': 'Kenneth', 'email': 'kenneth@teamtreehouse.com', 'phone': '(555) 555-5555', 'job': 'Teacher, Treehouse\\t', 'twitter': '@kennethlove'}\n"
     ]
    }
   ],
   "source": [
    "print(line.search(data).groupdict())"
   ]
  },
  {
   "cell_type": "code",
   "execution_count": 16,
   "metadata": {},
   "outputs": [
    {
     "name": "stdout",
     "output_type": "stream",
     "text": [
      "Love, Kenneth\n",
      "McFarland, Dave\n",
      "Arthur, King\n",
      "Österberg, Sven-Erik\n",
      ", Tim\n",
      "Carson, Ryan\n",
      "Doctor, The\n",
      "Exampleson, Example\n",
      "Obama, Barack\n",
      "Chalkley, Andrew\n",
      "Vader, Darth\n",
      "Fernández de la Vega Sanz, María Teresa\n"
     ]
    }
   ],
   "source": [
    "for match in line.finditer(data):\n",
    "    print(match.group('name'))"
   ]
  },
  {
   "cell_type": "code",
   "execution_count": 17,
   "metadata": {},
   "outputs": [
    {
     "name": "stdout",
     "output_type": "stream",
     "text": [
      "Kenneth Love <kenneth@teamtreehouse.com>\n",
      "Dave McFarland <dave@teamtreehouse.com>\n",
      "King Arthur <king_arthur@camelot.co.uk>\n",
      "Sven-Erik Österberg <governor@norrbotten.co.se>\n",
      "Tim  <tim@killerrabbit.com>\n",
      "Ryan Carson <ryan@teamtreehouse.com>\n",
      "The Doctor <doctor+companion@tardis.co.uk>\n",
      "Example Exampleson <me@example.com>\n",
      "Barack Obama <president.44@us.gov>\n",
      "Andrew Chalkley <andrew@teamtreehouse.com>\n",
      "Darth Vader <darth-vader@empire.gov>\n",
      "María Teresa Fernández de la Vega Sanz <mtfvs@spain.gov>\n"
     ]
    }
   ],
   "source": [
    "for match in line.finditer(data):\n",
    "    print('{first} {last} <{email}>'.format(**match.groupdict()))"
   ]
  },
  {
   "cell_type": "code",
   "execution_count": null,
   "metadata": {},
   "outputs": [],
   "source": []
  }
 ],
 "metadata": {
  "kernelspec": {
   "display_name": "Python 3",
   "language": "python",
   "name": "python3"
  },
  "language_info": {
   "codemirror_mode": {
    "name": "ipython",
    "version": 3
   },
   "file_extension": ".py",
   "mimetype": "text/x-python",
   "name": "python",
   "nbconvert_exporter": "python",
   "pygments_lexer": "ipython3",
   "version": "3.6.5"
  }
 },
 "nbformat": 4,
 "nbformat_minor": 2
}
