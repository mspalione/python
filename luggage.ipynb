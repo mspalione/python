{
 "cells": [
  {
   "cell_type": "code",
   "execution_count": 3,
   "metadata": {},
   "outputs": [
    {
     "name": "stdout",
     "output_type": "stream",
     "text": [
      "{'num': 42, 'spanish_inquisition': None}\n",
      "Hi Kenneth Love!\n"
     ]
    }
   ],
   "source": [
    "def packer(name=None, **kwargs):\n",
    "    print(kwargs)\n",
    "    \n",
    "    \n",
    "def unpacker(first_name=None, last_name=None):\n",
    "    if first_name and last_name:\n",
    "        print(\"Hi {} {}!\".format(first_name, last_name))\n",
    "    else:\n",
    "        print(\"Hi no name!\")\n",
    "        \n",
    "\n",
    "packer(name=\"Kenneth\", num=42, spanish_inquisition=None)\n",
    "unpacker(**{\"last_name\": \"Love\", \"first_name\": \"Kenneth\"})"
   ]
  },
  {
   "cell_type": "code",
   "execution_count": 4,
   "metadata": {},
   "outputs": [],
   "source": [
    "course_minutes = {\"Python Basics\": 232, \"Django Basics\": 237, \"Flask Basics\": 189, \"Java Basics\": 133}"
   ]
  },
  {
   "cell_type": "code",
   "execution_count": 6,
   "metadata": {},
   "outputs": [
    {
     "name": "stdout",
     "output_type": "stream",
     "text": [
      "Python Basics is 232 minutes long.\n",
      "Django Basics is 237 minutes long.\n",
      "Flask Basics is 189 minutes long.\n",
      "Java Basics is 133 minutes long.\n"
     ]
    }
   ],
   "source": [
    "for course, minutes in course_minutes.items():\n",
    "    print(\"{} is {} minutes long.\".format(course, minutes))"
   ]
  },
  {
   "cell_type": "code",
   "execution_count": 7,
   "metadata": {},
   "outputs": [
    {
     "data": {
      "text/plain": [
       "[(0, 'a'), (1, 'b'), (2, 'c')]"
      ]
     },
     "execution_count": 7,
     "metadata": {},
     "output_type": "execute_result"
    }
   ],
   "source": [
    "list(enumerate(\"abc\"))"
   ]
  },
  {
   "cell_type": "code",
   "execution_count": 8,
   "metadata": {},
   "outputs": [
    {
     "name": "stdout",
     "output_type": "stream",
     "text": [
      "1: a\n",
      "2: b\n",
      "3: c\n",
      "4: d\n",
      "5: e\n",
      "6: f\n",
      "7: g\n",
      "8: h\n",
      "9: i\n",
      "10: j\n",
      "11: k\n",
      "12: l\n",
      "13: m\n",
      "14: n\n",
      "15: o\n",
      "16: p\n",
      "17: q\n",
      "18: r\n",
      "19: s\n",
      "20: t\n",
      "21: u\n",
      "22: v\n",
      "23: w\n",
      "24: x\n",
      "25: y\n",
      "26: z\n"
     ]
    }
   ],
   "source": [
    "for index, letter in enumerate(\"abcdefghijklmnopqrstuvwxyz\"):\n",
    "    print(\"{}: {}\".format(index+1, letter))"
   ]
  },
  {
   "cell_type": "code",
   "execution_count": null,
   "metadata": {},
   "outputs": [],
   "source": []
  }
 ],
 "metadata": {
  "kernelspec": {
   "display_name": "Python 3",
   "language": "python",
   "name": "python3"
  },
  "language_info": {
   "codemirror_mode": {
    "name": "ipython",
    "version": 3
   },
   "file_extension": ".py",
   "mimetype": "text/x-python",
   "name": "python",
   "nbconvert_exporter": "python",
   "pygments_lexer": "ipython3",
   "version": "3.6.5"
  }
 },
 "nbformat": 4,
 "nbformat_minor": 2
}
