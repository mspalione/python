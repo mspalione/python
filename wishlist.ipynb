{
 "cells": [
  {
   "cell_type": "code",
   "execution_count": 1,
   "metadata": {},
   "outputs": [],
   "source": [
    "books = [\n",
    "    \"Automate the Boring Stuff with Python: Practical Programming for Total Beginners - Al Sweigart\",\n",
    "    \"Python for Data Analysis\",\n",
    "    \"Fluent Python: Clear, Concise, and Effective Programming - Luciano Ramalho\",\n",
    "    \"Python for Kids: A Playful Introduction To Programming - Jason R. Briggs\",\n",
    "    \"Hello Web App: Learn How to Build a Web App - Tracy Osborn\",\n",
    "]"
   ]
  },
  {
   "cell_type": "code",
   "execution_count": 2,
   "metadata": {},
   "outputs": [
    {
     "data": {
      "text/plain": [
       "'Automate the Boring Stuff with Python: Practical Programming for Total Beginners - Al Sweigart'"
      ]
     },
     "execution_count": 2,
     "metadata": {},
     "output_type": "execute_result"
    }
   ],
   "source": [
    "books[0]"
   ]
  },
  {
   "cell_type": "code",
   "execution_count": 3,
   "metadata": {},
   "outputs": [],
   "source": [
    "books[1] = \"Python for Data Analysis - Wes McKinney\""
   ]
  },
  {
   "cell_type": "code",
   "execution_count": 4,
   "metadata": {},
   "outputs": [
    {
     "data": {
      "text/plain": [
       "'Python for Data Analysis - Wes McKinney'"
      ]
     },
     "execution_count": 4,
     "metadata": {},
     "output_type": "execute_result"
    }
   ],
   "source": [
    "books[1]"
   ]
  },
  {
   "cell_type": "code",
   "execution_count": 5,
   "metadata": {},
   "outputs": [
    {
     "data": {
      "text/plain": [
       "['Automate the Boring Stuff with Python: Practical Programming for Total Beginners - Al Sweigart',\n",
       " 'Python for Data Analysis - Wes McKinney',\n",
       " 'Fluent Python: Clear, Concise, and Effective Programming - Luciano Ramalho',\n",
       " 'Python for Kids: A Playful Introduction To Programming - Jason R. Briggs',\n",
       " 'Hello Web App: Learn How to Build a Web App - Tracy Osborn']"
      ]
     },
     "execution_count": 5,
     "metadata": {},
     "output_type": "execute_result"
    }
   ],
   "source": [
    "books"
   ]
  },
  {
   "cell_type": "code",
   "execution_count": 6,
   "metadata": {},
   "outputs": [
    {
     "data": {
      "text/plain": [
       "'Hello Web App: Learn How to Build a Web App - Tracy Osborn'"
      ]
     },
     "execution_count": 6,
     "metadata": {},
     "output_type": "execute_result"
    }
   ],
   "source": [
    "books[-1]"
   ]
  },
  {
   "cell_type": "code",
   "execution_count": 7,
   "metadata": {},
   "outputs": [
    {
     "data": {
      "text/plain": [
       "'Python for Kids: A Playful Introduction To Programming - Jason R. Briggs'"
      ]
     },
     "execution_count": 7,
     "metadata": {},
     "output_type": "execute_result"
    }
   ],
   "source": [
    "books[-2]"
   ]
  },
  {
   "cell_type": "code",
   "execution_count": 8,
   "metadata": {},
   "outputs": [
    {
     "data": {
      "text/plain": [
       "'Hello Web App: Learn How to Build a Web App - Tracy Osborn'"
      ]
     },
     "execution_count": 8,
     "metadata": {},
     "output_type": "execute_result"
    }
   ],
   "source": [
    "books[len(books) -1]"
   ]
  },
  {
   "cell_type": "code",
   "execution_count": 9,
   "metadata": {},
   "outputs": [
    {
     "name": "stdout",
     "output_type": "stream",
     "text": [
      "Suggested gift: Automate the Boring Stuff with Python: Practical Programming for Total Beginners - Al Sweigart\n"
     ]
    }
   ],
   "source": [
    "print(\"Suggested gift: {}\".format(books[0]))"
   ]
  },
  {
   "cell_type": "code",
   "execution_count": 10,
   "metadata": {},
   "outputs": [],
   "source": [
    "books.insert(0, \"Learning Python: Powerful Object-Oriented Programming\")"
   ]
  },
  {
   "cell_type": "code",
   "execution_count": 11,
   "metadata": {},
   "outputs": [
    {
     "data": {
      "text/plain": [
       "['Learning Python: Powerful Object-Oriented Programming',\n",
       " 'Automate the Boring Stuff with Python: Practical Programming for Total Beginners - Al Sweigart',\n",
       " 'Python for Data Analysis - Wes McKinney',\n",
       " 'Fluent Python: Clear, Concise, and Effective Programming - Luciano Ramalho',\n",
       " 'Python for Kids: A Playful Introduction To Programming - Jason R. Briggs',\n",
       " 'Hello Web App: Learn How to Build a Web App - Tracy Osborn']"
      ]
     },
     "execution_count": 11,
     "metadata": {},
     "output_type": "execute_result"
    }
   ],
   "source": [
    "books"
   ]
  },
  {
   "cell_type": "code",
   "execution_count": 12,
   "metadata": {},
   "outputs": [],
   "source": [
    "books[0] += \" - Mark Lutz\""
   ]
  },
  {
   "cell_type": "code",
   "execution_count": 13,
   "metadata": {},
   "outputs": [
    {
     "data": {
      "text/plain": [
       "'Learning Python: Powerful Object-Oriented Programming - Mark Lutz'"
      ]
     },
     "execution_count": 13,
     "metadata": {},
     "output_type": "execute_result"
    }
   ],
   "source": [
    "books[0]"
   ]
  },
  {
   "cell_type": "code",
   "execution_count": 14,
   "metadata": {},
   "outputs": [],
   "source": [
    "lyrics = \"Books, check 'em out!\""
   ]
  },
  {
   "cell_type": "code",
   "execution_count": 15,
   "metadata": {},
   "outputs": [
    {
     "data": {
      "text/plain": [
       "'B'"
      ]
     },
     "execution_count": 15,
     "metadata": {},
     "output_type": "execute_result"
    }
   ],
   "source": [
    "lyrics[0]"
   ]
  },
  {
   "cell_type": "code",
   "execution_count": 16,
   "metadata": {},
   "outputs": [
    {
     "ename": "TypeError",
     "evalue": "'str' object does not support item assignment",
     "output_type": "error",
     "traceback": [
      "\u001b[1;31m---------------------------------------------------------------------------\u001b[0m",
      "\u001b[1;31mTypeError\u001b[0m                                 Traceback (most recent call last)",
      "\u001b[1;32m<ipython-input-16-1da5bcb1b9dc>\u001b[0m in \u001b[0;36m<module>\u001b[1;34m()\u001b[0m\n\u001b[1;32m----> 1\u001b[1;33m \u001b[0mlyrics\u001b[0m\u001b[1;33m[\u001b[0m\u001b[1;36m0\u001b[0m\u001b[1;33m]\u001b[0m \u001b[1;33m=\u001b[0m \u001b[1;34m\"C\"\u001b[0m\u001b[1;33m\u001b[0m\u001b[0m\n\u001b[0m",
      "\u001b[1;31mTypeError\u001b[0m: 'str' object does not support item assignment"
     ]
    }
   ],
   "source": [
    "lyrics[0] = \"C\""
   ]
  },
  {
   "cell_type": "code",
   "execution_count": 17,
   "metadata": {},
   "outputs": [],
   "source": [
    "books = [\n",
    "    \"Learning Python: Powerful Object-Oriented Programming - Mark Lutz\",\n",
    "    \"Automate the Boring Stuff with Python: Practical Programming for Total Beginners - Al Sweigart\",\n",
    "    \"Python for Data Analysis - Wes McKinney\",\n",
    "    \"Fluent Python: Clear, Concise, and Effective Programming - Luciano Ramalho\",\n",
    "    \"Python for Kids: A Playful Introduction To Programming - Jason R. Briggs\",\n",
    "    \"Hello Web App: Learn How to Build a Web App - Tracy Osborn\",\n",
    "]"
   ]
  },
  {
   "cell_type": "code",
   "execution_count": 19,
   "metadata": {},
   "outputs": [],
   "source": [
    "craigs_lunch = \"\\N{TACO}\""
   ]
  },
  {
   "cell_type": "code",
   "execution_count": 20,
   "metadata": {},
   "outputs": [
    {
     "data": {
      "text/plain": [
       "'🌮'"
      ]
     },
     "execution_count": 20,
     "metadata": {},
     "output_type": "execute_result"
    }
   ],
   "source": [
    "craigs_lunch"
   ]
  },
  {
   "cell_type": "code",
   "execution_count": 21,
   "metadata": {},
   "outputs": [],
   "source": [
    "carne_asade = craigs_lunch"
   ]
  },
  {
   "cell_type": "code",
   "execution_count": 22,
   "metadata": {},
   "outputs": [
    {
     "data": {
      "text/plain": [
       "'🌮'"
      ]
     },
     "execution_count": 22,
     "metadata": {},
     "output_type": "execute_result"
    }
   ],
   "source": [
    "carne_asade"
   ]
  },
  {
   "cell_type": "code",
   "execution_count": 23,
   "metadata": {},
   "outputs": [],
   "source": [
    "del craigs_lunch"
   ]
  },
  {
   "cell_type": "code",
   "execution_count": 24,
   "metadata": {},
   "outputs": [
    {
     "ename": "NameError",
     "evalue": "name 'craigs_lunch' is not defined",
     "output_type": "error",
     "traceback": [
      "\u001b[1;31m---------------------------------------------------------------------------\u001b[0m",
      "\u001b[1;31mNameError\u001b[0m                                 Traceback (most recent call last)",
      "\u001b[1;32m<ipython-input-24-62d9da61b2be>\u001b[0m in \u001b[0;36m<module>\u001b[1;34m()\u001b[0m\n\u001b[1;32m----> 1\u001b[1;33m \u001b[0mcraigs_lunch\u001b[0m\u001b[1;33m\u001b[0m\u001b[0m\n\u001b[0m",
      "\u001b[1;31mNameError\u001b[0m: name 'craigs_lunch' is not defined"
     ]
    }
   ],
   "source": [
    "craigs_lunch"
   ]
  },
  {
   "cell_type": "code",
   "execution_count": 25,
   "metadata": {},
   "outputs": [
    {
     "data": {
      "text/plain": [
       "'🌮'"
      ]
     },
     "execution_count": 25,
     "metadata": {},
     "output_type": "execute_result"
    }
   ],
   "source": [
    "carne_asade"
   ]
  },
  {
   "cell_type": "code",
   "execution_count": 26,
   "metadata": {},
   "outputs": [],
   "source": [
    "recommendation = books[0]"
   ]
  },
  {
   "cell_type": "code",
   "execution_count": 27,
   "metadata": {},
   "outputs": [],
   "source": [
    "del books[0]"
   ]
  },
  {
   "cell_type": "code",
   "execution_count": 28,
   "metadata": {},
   "outputs": [
    {
     "data": {
      "text/plain": [
       "['Automate the Boring Stuff with Python: Practical Programming for Total Beginners - Al Sweigart',\n",
       " 'Python for Data Analysis - Wes McKinney',\n",
       " 'Fluent Python: Clear, Concise, and Effective Programming - Luciano Ramalho',\n",
       " 'Python for Kids: A Playful Introduction To Programming - Jason R. Briggs',\n",
       " 'Hello Web App: Learn How to Build a Web App - Tracy Osborn']"
      ]
     },
     "execution_count": 28,
     "metadata": {},
     "output_type": "execute_result"
    }
   ],
   "source": [
    "books"
   ]
  },
  {
   "cell_type": "code",
   "execution_count": 29,
   "metadata": {},
   "outputs": [
    {
     "data": {
      "text/plain": [
       "'Learning Python: Powerful Object-Oriented Programming - Mark Lutz'"
      ]
     },
     "execution_count": 29,
     "metadata": {},
     "output_type": "execute_result"
    }
   ],
   "source": [
    "recommendation"
   ]
  },
  {
   "cell_type": "code",
   "execution_count": 30,
   "metadata": {},
   "outputs": [
    {
     "data": {
      "text/plain": [
       "'Hello Web App: Learn How to Build a Web App - Tracy Osborn'"
      ]
     },
     "execution_count": 30,
     "metadata": {},
     "output_type": "execute_result"
    }
   ],
   "source": [
    "books.pop()"
   ]
  },
  {
   "cell_type": "code",
   "execution_count": 31,
   "metadata": {},
   "outputs": [
    {
     "data": {
      "text/plain": [
       "'Automate the Boring Stuff with Python: Practical Programming for Total Beginners - Al Sweigart'"
      ]
     },
     "execution_count": 31,
     "metadata": {},
     "output_type": "execute_result"
    }
   ],
   "source": [
    "books.pop(0)"
   ]
  },
  {
   "cell_type": "code",
   "execution_count": 33,
   "metadata": {},
   "outputs": [],
   "source": [
    "books = [\n",
    "    \"Learning Python: Powerful Object-Oriented Programming - Mark Lutz\",\n",
    "    \"Automate the Boring Stuff with Python: Practical Programming for Total Beginners - Al Sweigart\",\n",
    "    \"Python for Data Analysis - Wes McKinney\",\n",
    "    \"Fluent Python: Clear, Concise, and Effective Programming - Luciano Ramalho\",\n",
    "    \"Python for Kids: A Playful Introduction To Programming - Jason R. Briggs\",\n",
    "    \"Hello Web App: Learn How to Build a Web App - Tracy Osborn\",\n",
    "]"
   ]
  },
  {
   "cell_type": "code",
   "execution_count": 35,
   "metadata": {},
   "outputs": [
    {
     "name": "stdout",
     "output_type": "stream",
     "text": [
      "Books:\n",
      "* Learning Python: Powerful Object-Oriented Programming - Mark Lutz\n",
      "* Automate the Boring Stuff with Python: Practical Programming for Total Beginners - Al Sweigart\n",
      "* Python for Data Analysis - Wes McKinney\n",
      "* Fluent Python: Clear, Concise, and Effective Programming - Luciano Ramalho\n",
      "* Python for Kids: A Playful Introduction To Programming - Jason R. Briggs\n",
      "* Hello Web App: Learn How to Build a Web App - Tracy Osborn\n"
     ]
    }
   ],
   "source": [
    "print(\"Books:\")\n",
    "for book in books:\n",
    "    print(\"* \" + book)"
   ]
  },
  {
   "cell_type": "code",
   "execution_count": 40,
   "metadata": {},
   "outputs": [],
   "source": [
    "video_games = [\n",
    "    \"The Legend of Zelda: Breath of the Wild\",\n",
    "    \"Splatoon 2\",\n",
    "    \"Super Mario Odyssey\",\n",
    "]"
   ]
  },
  {
   "cell_type": "code",
   "execution_count": 41,
   "metadata": {},
   "outputs": [
    {
     "name": "stdout",
     "output_type": "stream",
     "text": [
      "Books: \n",
      "=====> Automate the Boring Stuff with Python: Practical Programming for Total Beginners - Al Sweigart <=====\n",
      "* Python for Data Analysis - Wes McKinney\n",
      "* Fluent Python: Clear, Concise, and Effective Programming - Luciano Ramalho\n",
      "* Python for Kids: A Playful Introduction To Programming - Jason R. Briggs\n",
      "* Hello Web App: Learn How to Build a Web App - Tracy Osborn\n",
      "\n",
      "Video Games: \n",
      "=====> The Legend of Zelda: Breath of the Wild <=====\n",
      "* Splatoon 2\n",
      "* Super Mario Odyssey\n",
      "\n",
      "Video Games: \n",
      "=====> The Legend of Zelda: Breath of the Wild <=====\n",
      "* Splatoon 2\n",
      "* Super Mario Odyssey\n",
      "\n"
     ]
    }
   ],
   "source": [
    "def display_wishlist(display_name, wishes):\n",
    "    items = wishes.copy()\n",
    "    print(display_name + \": \")\n",
    "    suggested_gift = items.pop(0)\n",
    "    print(\"=====>\", suggested_gift, \"<=====\")\n",
    "    for item in items:\n",
    "        print(\"* \" + item)\n",
    "    print()\n",
    "    \n",
    "display_wishlist(\"Books\", books)\n",
    "display_wishlist(\"Video Games\", video_games)\n",
    "display_wishlist(\"Video Games\", video_games)"
   ]
  },
  {
   "cell_type": "code",
   "execution_count": 45,
   "metadata": {},
   "outputs": [
    {
     "data": {
      "text/plain": [
       "[]"
      ]
     },
     "execution_count": 45,
     "metadata": {},
     "output_type": "execute_result"
    }
   ],
   "source": [
    "inventory = [\"shield\", \"apple\", \"sword\", \"bow\", \"boomerang\"]\n",
    "for item in inventory.copy():\n",
    "    inventory.remove(item)\n",
    "inventory"
   ]
  },
  {
   "cell_type": "code",
   "execution_count": 46,
   "metadata": {},
   "outputs": [
    {
     "data": {
      "text/plain": [
       "['The', 'greatest', 'teacher', 'failure', 'is']"
      ]
     },
     "execution_count": 46,
     "metadata": {},
     "output_type": "execute_result"
    }
   ],
   "source": [
    "quote = \"The greatest teacher failure is\"\n",
    "words = quote.split()\n",
    "words"
   ]
  },
  {
   "cell_type": "code",
   "execution_count": 47,
   "metadata": {},
   "outputs": [],
   "source": [
    "import time"
   ]
  },
  {
   "cell_type": "code",
   "execution_count": 48,
   "metadata": {},
   "outputs": [
    {
     "name": "stdout",
     "output_type": "stream",
     "text": [
      "The\n",
      "greatest\n",
      "teacher\n",
      "failure\n",
      "is\n"
     ]
    }
   ],
   "source": [
    "for word in words:\n",
    "    print(word)\n",
    "    time.sleep(.5)"
   ]
  },
  {
   "cell_type": "code",
   "execution_count": null,
   "metadata": {},
   "outputs": [],
   "source": []
  }
 ],
 "metadata": {
  "kernelspec": {
   "display_name": "Python 3",
   "language": "python",
   "name": "python3"
  },
  "language_info": {
   "codemirror_mode": {
    "name": "ipython",
    "version": 3
   },
   "file_extension": ".py",
   "mimetype": "text/x-python",
   "name": "python",
   "nbconvert_exporter": "python",
   "pygments_lexer": "ipython3",
   "version": "3.6.5"
  }
 },
 "nbformat": 4,
 "nbformat_minor": 2
}
